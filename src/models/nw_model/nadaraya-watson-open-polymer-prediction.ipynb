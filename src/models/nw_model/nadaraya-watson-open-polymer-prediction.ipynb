{
 "cells": [
  {
   "cell_type": "markdown",
   "id": "7808ed57",
   "metadata": {},
   "source": [
    "This is the exact notebook I used for the submission with 0.85 score on the leaderboard, and uses the nadaraya watson method for predicting properties. File main.py in this directory is the file where I wrote my code first, and then copy pasted on kaggle in the form of a notebook which is this."
   ]
  },
  {
   "cell_type": "code",
   "execution_count": 1,
   "id": "130b648d",
   "metadata": {
    "_cell_guid": "b1076dfc-b9ad-4769-8c92-a6c4dae69d19",
    "_uuid": "8f2839f25d086af736a60e9eeb907d3b93b6e0e5",
    "execution": {
     "iopub.execute_input": "2025-08-14T02:22:13.277461Z",
     "iopub.status.busy": "2025-08-14T02:22:13.276709Z",
     "iopub.status.idle": "2025-08-14T02:22:14.915275Z",
     "shell.execute_reply": "2025-08-14T02:22:14.914354Z"
    },
    "papermill": {
     "duration": 1.644488,
     "end_time": "2025-08-14T02:22:14.916568",
     "exception": false,
     "start_time": "2025-08-14T02:22:13.272080",
     "status": "completed"
    },
    "tags": []
   },
   "outputs": [
    {
     "name": "stdout",
     "output_type": "stream",
     "text": [
      "/kaggle/input/c/transformers/default/1/ChemBERTa-77M-MLM/config.json\n",
      "/kaggle/input/c/transformers/default/1/ChemBERTa-77M-MLM/merges.txt\n",
      "/kaggle/input/c/transformers/default/1/ChemBERTa-77M-MLM/tokenizer.json\n",
      "/kaggle/input/c/transformers/default/1/ChemBERTa-77M-MLM/vocab.json\n",
      "/kaggle/input/c/transformers/default/1/ChemBERTa-77M-MLM/tokenizer_config.json\n",
      "/kaggle/input/c/transformers/default/1/ChemBERTa-77M-MLM/model.safetensors\n",
      "/kaggle/input/c/transformers/default/1/ChemBERTa-77M-MLM/special_tokens_map.json\n",
      "/kaggle/input/c/transformers/default/1/ChemBERTa-77M-MLM/added_tokens.json\n",
      "/kaggle/input/neurips-open-polymer-prediction-2025/sample_submission.csv\n",
      "/kaggle/input/neurips-open-polymer-prediction-2025/train.csv\n",
      "/kaggle/input/neurips-open-polymer-prediction-2025/test.csv\n",
      "/kaggle/input/neurips-open-polymer-prediction-2025/train_supplement/dataset2.csv\n",
      "/kaggle/input/neurips-open-polymer-prediction-2025/train_supplement/dataset4.csv\n",
      "/kaggle/input/neurips-open-polymer-prediction-2025/train_supplement/dataset1.csv\n",
      "/kaggle/input/neurips-open-polymer-prediction-2025/train_supplement/dataset3.csv\n"
     ]
    }
   ],
   "source": [
    "# This Python 3 environment comes with many helpful analytics libraries installed\n",
    "# It is defined by the kaggle/python Docker image: https://github.com/kaggle/docker-python\n",
    "# For example, here's several helpful packages to load\n",
    "\n",
    "import numpy as np # linear algebra\n",
    "import pandas as pd # data processing, CSV file I/O (e.g. pd.read_csv)\n",
    "\n",
    "# Input data files are available in the read-only \"../input/\" directory\n",
    "# For example, running this (by clicking run or pressing Shift+Enter) will list all files under the input directory\n",
    "\n",
    "import os\n",
    "for dirname, _, filenames in os.walk('/kaggle/input'):\n",
    "    for filename in filenames:\n",
    "        print(os.path.join(dirname, filename))\n",
    "\n",
    "# You can write up to 20GB to the current directory (/kaggle/working/) that gets preserved as output when you create a version using \"Save & Run All\" \n",
    "# You can also write temporary files to /kaggle/temp/, but they won't be saved outside of the current session"
   ]
  },
  {
   "cell_type": "code",
   "execution_count": 2,
   "id": "f2aef9ad",
   "metadata": {
    "execution": {
     "iopub.execute_input": "2025-08-14T02:22:14.923514Z",
     "iopub.status.busy": "2025-08-14T02:22:14.923178Z",
     "iopub.status.idle": "2025-08-14T02:22:45.645104Z",
     "shell.execute_reply": "2025-08-14T02:22:45.644421Z"
    },
    "papermill": {
     "duration": 30.726803,
     "end_time": "2025-08-14T02:22:45.646633",
     "exception": false,
     "start_time": "2025-08-14T02:22:14.919830",
     "status": "completed"
    },
    "tags": []
   },
   "outputs": [
    {
     "name": "stderr",
     "output_type": "stream",
     "text": [
      "2025-08-14 02:22:31.197467: E external/local_xla/xla/stream_executor/cuda/cuda_fft.cc:477] Unable to register cuFFT factory: Attempting to register factory for plugin cuFFT when one has already been registered\n",
      "WARNING: All log messages before absl::InitializeLog() is called are written to STDERR\n",
      "E0000 00:00:1755138151.370965      19 cuda_dnn.cc:8310] Unable to register cuDNN factory: Attempting to register factory for plugin cuDNN when one has already been registered\n",
      "E0000 00:00:1755138151.421732      19 cuda_blas.cc:1418] Unable to register cuBLAS factory: Attempting to register factory for plugin cuBLAS when one has already been registered\n"
     ]
    }
   ],
   "source": [
    "from sentence_transformers import SentenceTransformer\n",
    "import pandas as pd\n",
    "from sklearn.ensemble import RandomForestRegressor\n",
    "from sklearn.model_selection import GridSearchCV\n",
    "import numpy as np"
   ]
  },
  {
   "cell_type": "code",
   "execution_count": 3,
   "id": "b1aabbd9",
   "metadata": {
    "execution": {
     "iopub.execute_input": "2025-08-14T02:22:45.654222Z",
     "iopub.status.busy": "2025-08-14T02:22:45.653474Z",
     "iopub.status.idle": "2025-08-14T02:22:45.657081Z",
     "shell.execute_reply": "2025-08-14T02:22:45.656384Z"
    },
    "papermill": {
     "duration": 0.008295,
     "end_time": "2025-08-14T02:22:45.658189",
     "exception": false,
     "start_time": "2025-08-14T02:22:45.649894",
     "status": "completed"
    },
    "tags": []
   },
   "outputs": [],
   "source": [
    "# model = SentenceTransformer(\"Derify/ChemMRL-alpha\")"
   ]
  },
  {
   "cell_type": "code",
   "execution_count": 4,
   "id": "7a3ae4d2",
   "metadata": {
    "execution": {
     "iopub.execute_input": "2025-08-14T02:22:45.664339Z",
     "iopub.status.busy": "2025-08-14T02:22:45.664123Z",
     "iopub.status.idle": "2025-08-14T02:22:51.297186Z",
     "shell.execute_reply": "2025-08-14T02:22:51.296306Z"
    },
    "papermill": {
     "duration": 5.637886,
     "end_time": "2025-08-14T02:22:51.298706",
     "exception": false,
     "start_time": "2025-08-14T02:22:45.660820",
     "status": "completed"
    },
    "tags": []
   },
   "outputs": [],
   "source": [
    "# model_path = 'kaggle/input/models-derify-chemmrl-alpha/pytorch/default/1/models--Derify--ChemMRL-alpha/snapshots/10bace4387f5ce86181c382b110ece9cd55d9dcc'\n",
    "# model_path = '../input/models-derify-chemmrl-alpha/pytorch/default/1/models--Derify--ChemMRL-alpha/snapshots/10bace4387f5ce86181c382b110ece9cd55d9dcc'\n",
    "# model_path = '/kaggle/working/.cache/huggingface/hub/models--Derify--ChemMRL-alpha/snapshots/10bace4387f5ce86181c382b110ece9cd55d9dcc'\n",
    "model_path = '/kaggle/input/c/transformers/default/1/ChemBERTa-77M-MLM'\n",
    "model = SentenceTransformer(model_path)"
   ]
  },
  {
   "cell_type": "code",
   "execution_count": 5,
   "id": "1f0ad4c3",
   "metadata": {
    "execution": {
     "iopub.execute_input": "2025-08-14T02:22:51.306307Z",
     "iopub.status.busy": "2025-08-14T02:22:51.305561Z",
     "iopub.status.idle": "2025-08-14T02:22:51.340702Z",
     "shell.execute_reply": "2025-08-14T02:22:51.339868Z"
    },
    "papermill": {
     "duration": 0.040281,
     "end_time": "2025-08-14T02:22:51.342084",
     "exception": false,
     "start_time": "2025-08-14T02:22:51.301803",
     "status": "completed"
    },
    "tags": []
   },
   "outputs": [
    {
     "name": "stdout",
     "output_type": "stream",
     "text": [
      "Train shape: (7973, 7)\n",
      "Test shape: (3, 2)\n"
     ]
    }
   ],
   "source": [
    "# read data\n",
    "df_train = pd.read_csv('/kaggle/input/neurips-open-polymer-prediction-2025/train.csv')\n",
    "df_test = pd.read_csv('/kaggle/input/neurips-open-polymer-prediction-2025/test.csv')\n",
    "print(f'Train shape: {df_train.shape}')\n",
    "print(f'Test shape: {df_test.shape}')"
   ]
  },
  {
   "cell_type": "markdown",
   "id": "f7974f80",
   "metadata": {
    "papermill": {
     "duration": 0.002392,
     "end_time": "2025-08-14T02:22:51.347364",
     "exception": false,
     "start_time": "2025-08-14T02:22:51.344972",
     "status": "completed"
    },
    "tags": []
   },
   "source": [
    "### Simple model, Nadaraya-Watson regression for each property"
   ]
  },
  {
   "cell_type": "code",
   "execution_count": 6,
   "id": "83a2189b",
   "metadata": {
    "execution": {
     "iopub.execute_input": "2025-08-14T02:22:51.353537Z",
     "iopub.status.busy": "2025-08-14T02:22:51.353317Z",
     "iopub.status.idle": "2025-08-14T02:22:51.375291Z",
     "shell.execute_reply": "2025-08-14T02:22:51.374701Z"
    },
    "papermill": {
     "duration": 0.026622,
     "end_time": "2025-08-14T02:22:51.376549",
     "exception": false,
     "start_time": "2025-08-14T02:22:51.349927",
     "status": "completed"
    },
    "tags": []
   },
   "outputs": [],
   "source": [
    "# get all the subsets of the df, where each subset has all the information for one property\n",
    "data_tg = df_train.loc[~df_train['Tg'].isna(), ['id', 'SMILES', 'Tg']]\n",
    "data_ffv = df_train.loc[~df_train['FFV'].isna(), ['id', 'SMILES', 'FFV']]\n",
    "data_tc = df_train.loc[~df_train['Tc'].isna(), ['id', 'SMILES', 'Tc']]\n",
    "data_density = df_train.loc[~df_train['Density'].isna(), ['id', 'SMILES', 'Density']]\n",
    "data_rg = df_train.loc[~df_train['Rg'].isna(), ['id', 'SMILES', 'Rg']]"
   ]
  },
  {
   "cell_type": "code",
   "execution_count": 7,
   "id": "301164fd",
   "metadata": {
    "execution": {
     "iopub.execute_input": "2025-08-14T02:22:51.383352Z",
     "iopub.status.busy": "2025-08-14T02:22:51.383118Z",
     "iopub.status.idle": "2025-08-14T02:22:54.057245Z",
     "shell.execute_reply": "2025-08-14T02:22:54.056291Z"
    },
    "papermill": {
     "duration": 2.679238,
     "end_time": "2025-08-14T02:22:54.058721",
     "exception": false,
     "start_time": "2025-08-14T02:22:51.379483",
     "status": "completed"
    },
    "tags": []
   },
   "outputs": [
    {
     "data": {
      "application/vnd.jupyter.widget-view+json": {
       "model_id": "7b56a2f133ed40dfade0fc42b282a41d",
       "version_major": 2,
       "version_minor": 0
      },
      "text/plain": [
       "Batches:   0%|          | 0/250 [00:00<?, ?it/s]"
      ]
     },
     "metadata": {},
     "output_type": "display_data"
    }
   ],
   "source": [
    "embeddings = model.encode(list(df_train['SMILES']))"
   ]
  },
  {
   "cell_type": "code",
   "execution_count": 8,
   "id": "7fbc81e2",
   "metadata": {
    "execution": {
     "iopub.execute_input": "2025-08-14T02:22:54.066108Z",
     "iopub.status.busy": "2025-08-14T02:22:54.065816Z",
     "iopub.status.idle": "2025-08-14T02:22:54.076926Z",
     "shell.execute_reply": "2025-08-14T02:22:54.076184Z"
    },
    "papermill": {
     "duration": 0.016183,
     "end_time": "2025-08-14T02:22:54.078220",
     "exception": false,
     "start_time": "2025-08-14T02:22:54.062037",
     "status": "completed"
    },
    "tags": []
   },
   "outputs": [],
   "source": [
    "# class holding all information of the regressor we are creating in one place\n",
    "class NWRegressor():\n",
    "    def __init__(self, df_train, model, kernel_bandwidth):\n",
    "        # store the model as an attribute\n",
    "        self.model = model\n",
    "        # store as an attribute, the bandwidth of the kernel\n",
    "        self.bandwidth = kernel_bandwidth\n",
    "        # the df_train is also an integral part of the object, so should be stored as an attribute\n",
    "        self.df_train = df_train\n",
    "        # store all the data-subset attributes\n",
    "        self.data_tg = df_train.loc[~df_train['Tg'].isna(), ['id', 'SMILES', 'Tg']]\n",
    "        self.data_ffv = df_train.loc[~df_train['FFV'].isna(), ['id', 'SMILES', 'FFV']]\n",
    "        self.data_tc = df_train.loc[~df_train['Tc'].isna(), ['id', 'SMILES', 'Tc']]\n",
    "        self.data_density = df_train.loc[~df_train['Density'].isna(), ['id', 'SMILES', 'Density']]\n",
    "        self.data_rg = df_train.loc[~df_train['Rg'].isna(), ['id', 'SMILES', 'Rg']]\n",
    "\n",
    "    # separate method to initialize and assign embeddings because sometimes we may have them already computed and just want to assign so there is no need to do this in __init__\n",
    "    def store_embeddings(self):\n",
    "        # store the embeddings of all the smiles in df_train\n",
    "        self.embeddings = self.model.encode(self.df_train['SMILES']) # shape: (nrow(df_train), 1024) = (7973, 1024)\n",
    "\n",
    "    def kernel_fn(self, x):\n",
    "        numerator = -(x * x)\n",
    "        denominator = 2 * self.bandwidth * self.bandwidth\n",
    "        return np.exp(numerator/denominator)\n",
    "    \n",
    "    def distance(self, arr1, arr2):\n",
    "        # Compute pairwise distances (Euclidean by default)\n",
    "        arr1_exp = arr1[:, np.newaxis, :]  # (x, 1, 120)\n",
    "        arr2_exp = arr2[np.newaxis, :, :]  # (1, y, 120)\n",
    "        sq_diff = (arr1_exp - arr2_exp) ** 2  # (x, y, 120)\n",
    "        sq_distances = np.sum(sq_diff, axis=2)  # (x, y)\n",
    "        distances = np.sqrt(sq_distances)  # (x, y)\n",
    "        return distances\n",
    "\n",
    "    # data_property is the dataframe corresponding to a certain property for which predictions are being made\n",
    "    def predict_property(self, test_embeddings, data_property):\n",
    "        # find out the distances between test_embeddings and self.embeddings' subset of data_property\n",
    "        dists = self.distance(self.embeddings[data_property.index], test_embeddings) # shape: (nrow(data_property), test_embeddings)\n",
    "        weights = self.kernel_fn(dists) # pass the mere distances to kernel to get weights\n",
    "        # now, we scale the kernel-passed weights so that for each test_embedding, the weights' sum is 1\n",
    "        weights_scaled = weights/weights.sum(axis = 0)\n",
    "        # now we just tranpose as test_embeddings being as rownames are more intuitive\n",
    "        weights_scaled = weights_scaled.T # shape: (test_embeddings,nrow(data_property))\n",
    "        # now, just perform dot product with tg values vector to get tg value for each test_embedding\n",
    "        train_tg_values = data_property.iloc[:, -1].values\n",
    "        output_property_values = np.matmul(weights_scaled, train_tg_values)\n",
    "        return output_property_values # shape: (test_embeddings,)\n",
    "\n",
    "        # HERE... go through the details of the nadaraya-watson implementation. Where scaling, softmax etc. Then, finally\n",
    "        # use the scaled weights to compute the avg value of tg.\n",
    "\n",
    "    # predict on a list of smiles\n",
    "    def predict(self, smiles):\n",
    "        # create empty numpy arrays on which we can append as we get more and more predictions\n",
    "        tg = np.empty(0)\n",
    "        ffv = np.empty(0)\n",
    "        tc = np.empty(0)\n",
    "        density = np.empty(0)\n",
    "        rg = np.empty(0)\n",
    "        # loop is for being able to treat big list of smiles in parts\n",
    "        for i in range(0, len(smiles), 1000):\n",
    "            smiles_subset = smiles[i:i+1000]\n",
    "            test_embeddings = self.model.encode(smiles_subset)\n",
    "            # call the predict method for each property and return the values\n",
    "            tg = np.concatenate([tg, self.predict_property(test_embeddings, self.data_tg)])\n",
    "            ffv = np.concatenate([ffv, self.predict_property(test_embeddings, self.data_ffv)])\n",
    "            tc = np.concatenate([tc, self.predict_property(test_embeddings, self.data_tc)])\n",
    "            density = np.concatenate([density, self.predict_property(test_embeddings, self.data_density)])\n",
    "            rg = np.concatenate([rg, self.predict_property(test_embeddings, self.data_rg)])\n",
    "        \n",
    "        return {'Tg': tg, 'FFV': ffv, 'Tc': tc, 'Density': density, 'Rg': rg}"
   ]
  },
  {
   "cell_type": "code",
   "execution_count": 9,
   "id": "db0f7e31",
   "metadata": {
    "execution": {
     "iopub.execute_input": "2025-08-14T02:22:54.084731Z",
     "iopub.status.busy": "2025-08-14T02:22:54.084504Z",
     "iopub.status.idle": "2025-08-14T02:22:54.095354Z",
     "shell.execute_reply": "2025-08-14T02:22:54.094544Z"
    },
    "papermill": {
     "duration": 0.015456,
     "end_time": "2025-08-14T02:22:54.096566",
     "exception": false,
     "start_time": "2025-08-14T02:22:54.081110",
     "status": "completed"
    },
    "tags": []
   },
   "outputs": [],
   "source": [
    "regressor = NWRegressor(df_train, model, 0.5)\n",
    "regressor.embeddings = embeddings"
   ]
  },
  {
   "cell_type": "code",
   "execution_count": 10,
   "id": "db36114e",
   "metadata": {
    "execution": {
     "iopub.execute_input": "2025-08-14T02:22:54.104821Z",
     "iopub.status.busy": "2025-08-14T02:22:54.104603Z",
     "iopub.status.idle": "2025-08-14T02:22:54.195327Z",
     "shell.execute_reply": "2025-08-14T02:22:54.194596Z"
    },
    "papermill": {
     "duration": 0.095582,
     "end_time": "2025-08-14T02:22:54.196639",
     "exception": false,
     "start_time": "2025-08-14T02:22:54.101057",
     "status": "completed"
    },
    "tags": []
   },
   "outputs": [
    {
     "data": {
      "application/vnd.jupyter.widget-view+json": {
       "model_id": "94efa8d99c7549b5b624b67b92011cb1",
       "version_major": 2,
       "version_minor": 0
      },
      "text/plain": [
       "Batches:   0%|          | 0/1 [00:00<?, ?it/s]"
      ]
     },
     "metadata": {},
     "output_type": "display_data"
    },
    {
     "data": {
      "text/plain": [
       "{'Tg': array([159.85517141, 150.02688145, 153.6889426 ]),\n",
       " 'FFV': array([0.37095914, 0.37088752, 0.36688773]),\n",
       " 'Tc': array([0.21484122, 0.22679529, 0.22287344]),\n",
       " 'Density': array([1.1313129 , 1.12658923, 1.15190977]),\n",
       " 'Rg': array([20.22171483, 21.099519  , 19.90347482])}"
      ]
     },
     "execution_count": 10,
     "metadata": {},
     "output_type": "execute_result"
    }
   ],
   "source": [
    "# results with kernel bandwidth = 0.5\n",
    "results = regressor.predict(list(df_test['SMILES']))\n",
    "results"
   ]
  },
  {
   "cell_type": "code",
   "execution_count": 11,
   "id": "cf3f23c7",
   "metadata": {
    "execution": {
     "iopub.execute_input": "2025-08-14T02:22:54.204510Z",
     "iopub.status.busy": "2025-08-14T02:22:54.204288Z",
     "iopub.status.idle": "2025-08-14T02:22:54.208864Z",
     "shell.execute_reply": "2025-08-14T02:22:54.208293Z"
    },
    "papermill": {
     "duration": 0.01009,
     "end_time": "2025-08-14T02:22:54.209937",
     "exception": false,
     "start_time": "2025-08-14T02:22:54.199847",
     "status": "completed"
    },
    "tags": []
   },
   "outputs": [],
   "source": [
    "# export into csv\n",
    "def SaveOutput(results_dict, output_filename, df_test):\n",
    "    df = pd.DataFrame()\n",
    "    # get id col from df_test\n",
    "    df['id'] = df_test['id']\n",
    "    # get other info from results_dict\n",
    "    df['Tg'] = results_dict['Tg']\n",
    "    df['FFV'] = results_dict['FFV']\n",
    "    df['Tc'] = results_dict['Tc']\n",
    "    df['Density'] = results_dict['Density']\n",
    "    df['Rg'] = results_dict['Rg']\n",
    "    # save to specified location\n",
    "    df.to_csv(output_filename, index = False)    "
   ]
  },
  {
   "cell_type": "code",
   "execution_count": 12,
   "id": "c7a789fa",
   "metadata": {
    "execution": {
     "iopub.execute_input": "2025-08-14T02:22:54.216923Z",
     "iopub.status.busy": "2025-08-14T02:22:54.216723Z",
     "iopub.status.idle": "2025-08-14T02:22:54.228136Z",
     "shell.execute_reply": "2025-08-14T02:22:54.227546Z"
    },
    "papermill": {
     "duration": 0.016143,
     "end_time": "2025-08-14T02:22:54.229220",
     "exception": false,
     "start_time": "2025-08-14T02:22:54.213077",
     "status": "completed"
    },
    "tags": []
   },
   "outputs": [],
   "source": [
    "SaveOutput(results, 'submission.csv', df_test)"
   ]
  },
  {
   "cell_type": "code",
   "execution_count": null,
   "id": "e18c9b71",
   "metadata": {
    "papermill": {
     "duration": 0.002726,
     "end_time": "2025-08-14T02:22:54.235178",
     "exception": false,
     "start_time": "2025-08-14T02:22:54.232452",
     "status": "completed"
    },
    "tags": []
   },
   "outputs": [],
   "source": []
  }
 ],
 "metadata": {
  "kaggle": {
   "accelerator": "nvidiaTeslaT4",
   "dataSources": [
    {
     "databundleVersionId": 12966160,
     "isSourceIdPinned": false,
     "sourceId": 74608,
     "sourceType": "competition"
    },
    {
     "isSourceIdPinned": false,
     "modelId": 380893,
     "modelInstanceId": 359690,
     "sourceId": 442871,
     "sourceType": "modelInstanceVersion"
    }
   ],
   "dockerImageVersionId": 31090,
   "isGpuEnabled": true,
   "isInternetEnabled": false,
   "language": "python",
   "sourceType": "notebook"
  },
  "kernelspec": {
   "display_name": "Python 3",
   "language": "python",
   "name": "python3"
  },
  "language_info": {
   "codemirror_mode": {
    "name": "ipython",
    "version": 3
   },
   "file_extension": ".py",
   "mimetype": "text/x-python",
   "name": "python",
   "nbconvert_exporter": "python",
   "pygments_lexer": "ipython3",
   "version": "3.11.13"
  },
  "papermill": {
   "default_parameters": {},
   "duration": 48.33315,
   "end_time": "2025-08-14T02:22:57.217368",
   "environment_variables": {},
   "exception": null,
   "input_path": "__notebook__.ipynb",
   "output_path": "__notebook__.ipynb",
   "parameters": {},
   "start_time": "2025-08-14T02:22:08.884218",
   "version": "2.6.0"
  },
  "widgets": {
   "application/vnd.jupyter.widget-state+json": {
    "state": {
     "0f0762013e3f4634b284e15058bb2dc9": {
      "model_module": "@jupyter-widgets/controls",
      "model_module_version": "2.0.0",
      "model_name": "ProgressStyleModel",
      "state": {
       "_model_module": "@jupyter-widgets/controls",
       "_model_module_version": "2.0.0",
       "_model_name": "ProgressStyleModel",
       "_view_count": null,
       "_view_module": "@jupyter-widgets/base",
       "_view_module_version": "2.0.0",
       "_view_name": "StyleView",
       "bar_color": null,
       "description_width": ""
      }
     },
     "14768cd6547f4b96b30212961bd85ee6": {
      "model_module": "@jupyter-widgets/base",
      "model_module_version": "2.0.0",
      "model_name": "LayoutModel",
      "state": {
       "_model_module": "@jupyter-widgets/base",
       "_model_module_version": "2.0.0",
       "_model_name": "LayoutModel",
       "_view_count": null,
       "_view_module": "@jupyter-widgets/base",
       "_view_module_version": "2.0.0",
       "_view_name": "LayoutView",
       "align_content": null,
       "align_items": null,
       "align_self": null,
       "border_bottom": null,
       "border_left": null,
       "border_right": null,
       "border_top": null,
       "bottom": null,
       "display": null,
       "flex": null,
       "flex_flow": null,
       "grid_area": null,
       "grid_auto_columns": null,
       "grid_auto_flow": null,
       "grid_auto_rows": null,
       "grid_column": null,
       "grid_gap": null,
       "grid_row": null,
       "grid_template_areas": null,
       "grid_template_columns": null,
       "grid_template_rows": null,
       "height": null,
       "justify_content": null,
       "justify_items": null,
       "left": null,
       "margin": null,
       "max_height": null,
       "max_width": null,
       "min_height": null,
       "min_width": null,
       "object_fit": null,
       "object_position": null,
       "order": null,
       "overflow": null,
       "padding": null,
       "right": null,
       "top": null,
       "visibility": null,
       "width": null
      }
     },
     "1a46fadebafa434abafc6bab2320a1f8": {
      "model_module": "@jupyter-widgets/base",
      "model_module_version": "2.0.0",
      "model_name": "LayoutModel",
      "state": {
       "_model_module": "@jupyter-widgets/base",
       "_model_module_version": "2.0.0",
       "_model_name": "LayoutModel",
       "_view_count": null,
       "_view_module": "@jupyter-widgets/base",
       "_view_module_version": "2.0.0",
       "_view_name": "LayoutView",
       "align_content": null,
       "align_items": null,
       "align_self": null,
       "border_bottom": null,
       "border_left": null,
       "border_right": null,
       "border_top": null,
       "bottom": null,
       "display": null,
       "flex": null,
       "flex_flow": null,
       "grid_area": null,
       "grid_auto_columns": null,
       "grid_auto_flow": null,
       "grid_auto_rows": null,
       "grid_column": null,
       "grid_gap": null,
       "grid_row": null,
       "grid_template_areas": null,
       "grid_template_columns": null,
       "grid_template_rows": null,
       "height": null,
       "justify_content": null,
       "justify_items": null,
       "left": null,
       "margin": null,
       "max_height": null,
       "max_width": null,
       "min_height": null,
       "min_width": null,
       "object_fit": null,
       "object_position": null,
       "order": null,
       "overflow": null,
       "padding": null,
       "right": null,
       "top": null,
       "visibility": null,
       "width": null
      }
     },
     "2586272c1a334bb5bfcd262bcf73320a": {
      "model_module": "@jupyter-widgets/controls",
      "model_module_version": "2.0.0",
      "model_name": "HTMLStyleModel",
      "state": {
       "_model_module": "@jupyter-widgets/controls",
       "_model_module_version": "2.0.0",
       "_model_name": "HTMLStyleModel",
       "_view_count": null,
       "_view_module": "@jupyter-widgets/base",
       "_view_module_version": "2.0.0",
       "_view_name": "StyleView",
       "background": null,
       "description_width": "",
       "font_size": null,
       "text_color": null
      }
     },
     "33dc80ce839646d19deac45247f1c0a4": {
      "model_module": "@jupyter-widgets/controls",
      "model_module_version": "2.0.0",
      "model_name": "HTMLModel",
      "state": {
       "_dom_classes": [],
       "_model_module": "@jupyter-widgets/controls",
       "_model_module_version": "2.0.0",
       "_model_name": "HTMLModel",
       "_view_count": null,
       "_view_module": "@jupyter-widgets/controls",
       "_view_module_version": "2.0.0",
       "_view_name": "HTMLView",
       "description": "",
       "description_allow_html": false,
       "layout": "IPY_MODEL_869780f007514236a96f6352097860c0",
       "placeholder": "​",
       "style": "IPY_MODEL_bca715be9e164f3ca635079ce2349f31",
       "tabbable": null,
       "tooltip": null,
       "value": " 250/250 [00:02&lt;00:00, 167.23it/s]"
      }
     },
     "45f73bdddb5a4810af48a8daad7e5bcf": {
      "model_module": "@jupyter-widgets/base",
      "model_module_version": "2.0.0",
      "model_name": "LayoutModel",
      "state": {
       "_model_module": "@jupyter-widgets/base",
       "_model_module_version": "2.0.0",
       "_model_name": "LayoutModel",
       "_view_count": null,
       "_view_module": "@jupyter-widgets/base",
       "_view_module_version": "2.0.0",
       "_view_name": "LayoutView",
       "align_content": null,
       "align_items": null,
       "align_self": null,
       "border_bottom": null,
       "border_left": null,
       "border_right": null,
       "border_top": null,
       "bottom": null,
       "display": null,
       "flex": null,
       "flex_flow": null,
       "grid_area": null,
       "grid_auto_columns": null,
       "grid_auto_flow": null,
       "grid_auto_rows": null,
       "grid_column": null,
       "grid_gap": null,
       "grid_row": null,
       "grid_template_areas": null,
       "grid_template_columns": null,
       "grid_template_rows": null,
       "height": null,
       "justify_content": null,
       "justify_items": null,
       "left": null,
       "margin": null,
       "max_height": null,
       "max_width": null,
       "min_height": null,
       "min_width": null,
       "object_fit": null,
       "object_position": null,
       "order": null,
       "overflow": null,
       "padding": null,
       "right": null,
       "top": null,
       "visibility": null,
       "width": null
      }
     },
     "46b8d85bcb3c4ed2adf6730fae05239d": {
      "model_module": "@jupyter-widgets/controls",
      "model_module_version": "2.0.0",
      "model_name": "FloatProgressModel",
      "state": {
       "_dom_classes": [],
       "_model_module": "@jupyter-widgets/controls",
       "_model_module_version": "2.0.0",
       "_model_name": "FloatProgressModel",
       "_view_count": null,
       "_view_module": "@jupyter-widgets/controls",
       "_view_module_version": "2.0.0",
       "_view_name": "ProgressView",
       "bar_style": "success",
       "description": "",
       "description_allow_html": false,
       "layout": "IPY_MODEL_1a46fadebafa434abafc6bab2320a1f8",
       "max": 250,
       "min": 0,
       "orientation": "horizontal",
       "style": "IPY_MODEL_9d04acbf2ed2496b86095ad1bf6fb678",
       "tabbable": null,
       "tooltip": null,
       "value": 250
      }
     },
     "5000227f227c40b1aeb4b7555cf9e999": {
      "model_module": "@jupyter-widgets/controls",
      "model_module_version": "2.0.0",
      "model_name": "HTMLStyleModel",
      "state": {
       "_model_module": "@jupyter-widgets/controls",
       "_model_module_version": "2.0.0",
       "_model_name": "HTMLStyleModel",
       "_view_count": null,
       "_view_module": "@jupyter-widgets/base",
       "_view_module_version": "2.0.0",
       "_view_name": "StyleView",
       "background": null,
       "description_width": "",
       "font_size": null,
       "text_color": null
      }
     },
     "5a4cceedfef84d33885349197f61d8c4": {
      "model_module": "@jupyter-widgets/controls",
      "model_module_version": "2.0.0",
      "model_name": "HTMLModel",
      "state": {
       "_dom_classes": [],
       "_model_module": "@jupyter-widgets/controls",
       "_model_module_version": "2.0.0",
       "_model_name": "HTMLModel",
       "_view_count": null,
       "_view_module": "@jupyter-widgets/controls",
       "_view_module_version": "2.0.0",
       "_view_name": "HTMLView",
       "description": "",
       "description_allow_html": false,
       "layout": "IPY_MODEL_91e056c018374d528adfe4656a2dbc59",
       "placeholder": "​",
       "style": "IPY_MODEL_b0f8caf874564c5389db2abb7e02b806",
       "tabbable": null,
       "tooltip": null,
       "value": "Batches: 100%"
      }
     },
     "7670635a1e8a45189ab8d712341a2c86": {
      "model_module": "@jupyter-widgets/base",
      "model_module_version": "2.0.0",
      "model_name": "LayoutModel",
      "state": {
       "_model_module": "@jupyter-widgets/base",
       "_model_module_version": "2.0.0",
       "_model_name": "LayoutModel",
       "_view_count": null,
       "_view_module": "@jupyter-widgets/base",
       "_view_module_version": "2.0.0",
       "_view_name": "LayoutView",
       "align_content": null,
       "align_items": null,
       "align_self": null,
       "border_bottom": null,
       "border_left": null,
       "border_right": null,
       "border_top": null,
       "bottom": null,
       "display": null,
       "flex": null,
       "flex_flow": null,
       "grid_area": null,
       "grid_auto_columns": null,
       "grid_auto_flow": null,
       "grid_auto_rows": null,
       "grid_column": null,
       "grid_gap": null,
       "grid_row": null,
       "grid_template_areas": null,
       "grid_template_columns": null,
       "grid_template_rows": null,
       "height": null,
       "justify_content": null,
       "justify_items": null,
       "left": null,
       "margin": null,
       "max_height": null,
       "max_width": null,
       "min_height": null,
       "min_width": null,
       "object_fit": null,
       "object_position": null,
       "order": null,
       "overflow": null,
       "padding": null,
       "right": null,
       "top": null,
       "visibility": null,
       "width": null
      }
     },
     "7b56a2f133ed40dfade0fc42b282a41d": {
      "model_module": "@jupyter-widgets/controls",
      "model_module_version": "2.0.0",
      "model_name": "HBoxModel",
      "state": {
       "_dom_classes": [],
       "_model_module": "@jupyter-widgets/controls",
       "_model_module_version": "2.0.0",
       "_model_name": "HBoxModel",
       "_view_count": null,
       "_view_module": "@jupyter-widgets/controls",
       "_view_module_version": "2.0.0",
       "_view_name": "HBoxView",
       "box_style": "",
       "children": [
        "IPY_MODEL_97c10a2a2a6643f98f7705217504c0dc",
        "IPY_MODEL_46b8d85bcb3c4ed2adf6730fae05239d",
        "IPY_MODEL_33dc80ce839646d19deac45247f1c0a4"
       ],
       "layout": "IPY_MODEL_45f73bdddb5a4810af48a8daad7e5bcf",
       "tabbable": null,
       "tooltip": null
      }
     },
     "7f23184e2c6d4267a466e11d04addc01": {
      "model_module": "@jupyter-widgets/controls",
      "model_module_version": "2.0.0",
      "model_name": "HTMLModel",
      "state": {
       "_dom_classes": [],
       "_model_module": "@jupyter-widgets/controls",
       "_model_module_version": "2.0.0",
       "_model_name": "HTMLModel",
       "_view_count": null,
       "_view_module": "@jupyter-widgets/controls",
       "_view_module_version": "2.0.0",
       "_view_name": "HTMLView",
       "description": "",
       "description_allow_html": false,
       "layout": "IPY_MODEL_e405a4d4de3e4125ae7dc2526580c84d",
       "placeholder": "​",
       "style": "IPY_MODEL_2586272c1a334bb5bfcd262bcf73320a",
       "tabbable": null,
       "tooltip": null,
       "value": " 1/1 [00:00&lt;00:00, 68.10it/s]"
      }
     },
     "869780f007514236a96f6352097860c0": {
      "model_module": "@jupyter-widgets/base",
      "model_module_version": "2.0.0",
      "model_name": "LayoutModel",
      "state": {
       "_model_module": "@jupyter-widgets/base",
       "_model_module_version": "2.0.0",
       "_model_name": "LayoutModel",
       "_view_count": null,
       "_view_module": "@jupyter-widgets/base",
       "_view_module_version": "2.0.0",
       "_view_name": "LayoutView",
       "align_content": null,
       "align_items": null,
       "align_self": null,
       "border_bottom": null,
       "border_left": null,
       "border_right": null,
       "border_top": null,
       "bottom": null,
       "display": null,
       "flex": null,
       "flex_flow": null,
       "grid_area": null,
       "grid_auto_columns": null,
       "grid_auto_flow": null,
       "grid_auto_rows": null,
       "grid_column": null,
       "grid_gap": null,
       "grid_row": null,
       "grid_template_areas": null,
       "grid_template_columns": null,
       "grid_template_rows": null,
       "height": null,
       "justify_content": null,
       "justify_items": null,
       "left": null,
       "margin": null,
       "max_height": null,
       "max_width": null,
       "min_height": null,
       "min_width": null,
       "object_fit": null,
       "object_position": null,
       "order": null,
       "overflow": null,
       "padding": null,
       "right": null,
       "top": null,
       "visibility": null,
       "width": null
      }
     },
     "91e056c018374d528adfe4656a2dbc59": {
      "model_module": "@jupyter-widgets/base",
      "model_module_version": "2.0.0",
      "model_name": "LayoutModel",
      "state": {
       "_model_module": "@jupyter-widgets/base",
       "_model_module_version": "2.0.0",
       "_model_name": "LayoutModel",
       "_view_count": null,
       "_view_module": "@jupyter-widgets/base",
       "_view_module_version": "2.0.0",
       "_view_name": "LayoutView",
       "align_content": null,
       "align_items": null,
       "align_self": null,
       "border_bottom": null,
       "border_left": null,
       "border_right": null,
       "border_top": null,
       "bottom": null,
       "display": null,
       "flex": null,
       "flex_flow": null,
       "grid_area": null,
       "grid_auto_columns": null,
       "grid_auto_flow": null,
       "grid_auto_rows": null,
       "grid_column": null,
       "grid_gap": null,
       "grid_row": null,
       "grid_template_areas": null,
       "grid_template_columns": null,
       "grid_template_rows": null,
       "height": null,
       "justify_content": null,
       "justify_items": null,
       "left": null,
       "margin": null,
       "max_height": null,
       "max_width": null,
       "min_height": null,
       "min_width": null,
       "object_fit": null,
       "object_position": null,
       "order": null,
       "overflow": null,
       "padding": null,
       "right": null,
       "top": null,
       "visibility": null,
       "width": null
      }
     },
     "94efa8d99c7549b5b624b67b92011cb1": {
      "model_module": "@jupyter-widgets/controls",
      "model_module_version": "2.0.0",
      "model_name": "HBoxModel",
      "state": {
       "_dom_classes": [],
       "_model_module": "@jupyter-widgets/controls",
       "_model_module_version": "2.0.0",
       "_model_name": "HBoxModel",
       "_view_count": null,
       "_view_module": "@jupyter-widgets/controls",
       "_view_module_version": "2.0.0",
       "_view_name": "HBoxView",
       "box_style": "",
       "children": [
        "IPY_MODEL_5a4cceedfef84d33885349197f61d8c4",
        "IPY_MODEL_c6c2b9b5c8bc4f00be758c77a8457a1b",
        "IPY_MODEL_7f23184e2c6d4267a466e11d04addc01"
       ],
       "layout": "IPY_MODEL_7670635a1e8a45189ab8d712341a2c86",
       "tabbable": null,
       "tooltip": null
      }
     },
     "97c10a2a2a6643f98f7705217504c0dc": {
      "model_module": "@jupyter-widgets/controls",
      "model_module_version": "2.0.0",
      "model_name": "HTMLModel",
      "state": {
       "_dom_classes": [],
       "_model_module": "@jupyter-widgets/controls",
       "_model_module_version": "2.0.0",
       "_model_name": "HTMLModel",
       "_view_count": null,
       "_view_module": "@jupyter-widgets/controls",
       "_view_module_version": "2.0.0",
       "_view_name": "HTMLView",
       "description": "",
       "description_allow_html": false,
       "layout": "IPY_MODEL_e75b2853cd2541d9b142304bff0504cf",
       "placeholder": "​",
       "style": "IPY_MODEL_5000227f227c40b1aeb4b7555cf9e999",
       "tabbable": null,
       "tooltip": null,
       "value": "Batches: 100%"
      }
     },
     "9d04acbf2ed2496b86095ad1bf6fb678": {
      "model_module": "@jupyter-widgets/controls",
      "model_module_version": "2.0.0",
      "model_name": "ProgressStyleModel",
      "state": {
       "_model_module": "@jupyter-widgets/controls",
       "_model_module_version": "2.0.0",
       "_model_name": "ProgressStyleModel",
       "_view_count": null,
       "_view_module": "@jupyter-widgets/base",
       "_view_module_version": "2.0.0",
       "_view_name": "StyleView",
       "bar_color": null,
       "description_width": ""
      }
     },
     "b0f8caf874564c5389db2abb7e02b806": {
      "model_module": "@jupyter-widgets/controls",
      "model_module_version": "2.0.0",
      "model_name": "HTMLStyleModel",
      "state": {
       "_model_module": "@jupyter-widgets/controls",
       "_model_module_version": "2.0.0",
       "_model_name": "HTMLStyleModel",
       "_view_count": null,
       "_view_module": "@jupyter-widgets/base",
       "_view_module_version": "2.0.0",
       "_view_name": "StyleView",
       "background": null,
       "description_width": "",
       "font_size": null,
       "text_color": null
      }
     },
     "bca715be9e164f3ca635079ce2349f31": {
      "model_module": "@jupyter-widgets/controls",
      "model_module_version": "2.0.0",
      "model_name": "HTMLStyleModel",
      "state": {
       "_model_module": "@jupyter-widgets/controls",
       "_model_module_version": "2.0.0",
       "_model_name": "HTMLStyleModel",
       "_view_count": null,
       "_view_module": "@jupyter-widgets/base",
       "_view_module_version": "2.0.0",
       "_view_name": "StyleView",
       "background": null,
       "description_width": "",
       "font_size": null,
       "text_color": null
      }
     },
     "c6c2b9b5c8bc4f00be758c77a8457a1b": {
      "model_module": "@jupyter-widgets/controls",
      "model_module_version": "2.0.0",
      "model_name": "FloatProgressModel",
      "state": {
       "_dom_classes": [],
       "_model_module": "@jupyter-widgets/controls",
       "_model_module_version": "2.0.0",
       "_model_name": "FloatProgressModel",
       "_view_count": null,
       "_view_module": "@jupyter-widgets/controls",
       "_view_module_version": "2.0.0",
       "_view_name": "ProgressView",
       "bar_style": "success",
       "description": "",
       "description_allow_html": false,
       "layout": "IPY_MODEL_14768cd6547f4b96b30212961bd85ee6",
       "max": 1,
       "min": 0,
       "orientation": "horizontal",
       "style": "IPY_MODEL_0f0762013e3f4634b284e15058bb2dc9",
       "tabbable": null,
       "tooltip": null,
       "value": 1
      }
     },
     "e405a4d4de3e4125ae7dc2526580c84d": {
      "model_module": "@jupyter-widgets/base",
      "model_module_version": "2.0.0",
      "model_name": "LayoutModel",
      "state": {
       "_model_module": "@jupyter-widgets/base",
       "_model_module_version": "2.0.0",
       "_model_name": "LayoutModel",
       "_view_count": null,
       "_view_module": "@jupyter-widgets/base",
       "_view_module_version": "2.0.0",
       "_view_name": "LayoutView",
       "align_content": null,
       "align_items": null,
       "align_self": null,
       "border_bottom": null,
       "border_left": null,
       "border_right": null,
       "border_top": null,
       "bottom": null,
       "display": null,
       "flex": null,
       "flex_flow": null,
       "grid_area": null,
       "grid_auto_columns": null,
       "grid_auto_flow": null,
       "grid_auto_rows": null,
       "grid_column": null,
       "grid_gap": null,
       "grid_row": null,
       "grid_template_areas": null,
       "grid_template_columns": null,
       "grid_template_rows": null,
       "height": null,
       "justify_content": null,
       "justify_items": null,
       "left": null,
       "margin": null,
       "max_height": null,
       "max_width": null,
       "min_height": null,
       "min_width": null,
       "object_fit": null,
       "object_position": null,
       "order": null,
       "overflow": null,
       "padding": null,
       "right": null,
       "top": null,
       "visibility": null,
       "width": null
      }
     },
     "e75b2853cd2541d9b142304bff0504cf": {
      "model_module": "@jupyter-widgets/base",
      "model_module_version": "2.0.0",
      "model_name": "LayoutModel",
      "state": {
       "_model_module": "@jupyter-widgets/base",
       "_model_module_version": "2.0.0",
       "_model_name": "LayoutModel",
       "_view_count": null,
       "_view_module": "@jupyter-widgets/base",
       "_view_module_version": "2.0.0",
       "_view_name": "LayoutView",
       "align_content": null,
       "align_items": null,
       "align_self": null,
       "border_bottom": null,
       "border_left": null,
       "border_right": null,
       "border_top": null,
       "bottom": null,
       "display": null,
       "flex": null,
       "flex_flow": null,
       "grid_area": null,
       "grid_auto_columns": null,
       "grid_auto_flow": null,
       "grid_auto_rows": null,
       "grid_column": null,
       "grid_gap": null,
       "grid_row": null,
       "grid_template_areas": null,
       "grid_template_columns": null,
       "grid_template_rows": null,
       "height": null,
       "justify_content": null,
       "justify_items": null,
       "left": null,
       "margin": null,
       "max_height": null,
       "max_width": null,
       "min_height": null,
       "min_width": null,
       "object_fit": null,
       "object_position": null,
       "order": null,
       "overflow": null,
       "padding": null,
       "right": null,
       "top": null,
       "visibility": null,
       "width": null
      }
     }
    },
    "version_major": 2,
    "version_minor": 0
   }
  }
 },
 "nbformat": 4,
 "nbformat_minor": 5
}
